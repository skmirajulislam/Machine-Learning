version https://git-lfs.github.com/spec/v1
oid sha256:244b26d7cda42fb278a6fc81fc3a009938fd61bfb667635239643f4f19bbc2ad
size 66242342
