version https://git-lfs.github.com/spec/v1
oid sha256:e60050da1c7c592d6b36d66b429b26627883991dc71c633172f7ccd911a0ca5b
size 704583
