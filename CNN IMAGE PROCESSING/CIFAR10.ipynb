version https://git-lfs.github.com/spec/v1
oid sha256:32ca69ac946c96bf2ff5bc2b8fdda01d38abbf380ee6cd4de9176faa516b61e1
size 50202
